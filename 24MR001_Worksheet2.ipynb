{
 "cells": [
  {
   "cell_type": "markdown",
   "id": "1f0db6eb",
   "metadata": {},
   "source": [
    "# Question 1\n",
    "\n",
    "(9 points) Use bisection, Secant and Newton-Raphson to solve the equation x = 1/3(tan(x))"
   ]
  },
  {
   "cell_type": "code",
   "execution_count": 2,
   "id": "eda1f131",
   "metadata": {},
   "outputs": [],
   "source": [
    "import numpy as np\n",
    "import matplotlib.pyplot as plt"
   ]
  },
  {
   "cell_type": "markdown",
   "id": "5f6d3af8",
   "metadata": {},
   "source": [
    "## Bisection method"
   ]
  },
  {
   "cell_type": "code",
   "execution_count": 17,
   "id": "68c8ca43",
   "metadata": {},
   "outputs": [
    {
     "name": "stdout",
     "output_type": "stream",
     "text": [
      " 1   3.000000   3.500000   3.250000   0.036278\n",
      " 2   3.000000   3.250000   3.125000  -0.005531\n",
      " 3   3.125000   3.250000   3.187500   0.015313\n",
      " 4   3.125000   3.187500   3.156250   0.004886\n",
      " 5   3.125000   3.156250   3.140625  -0.000323\n",
      " 6   3.140625   3.156250   3.148438   0.002282\n",
      " 7   3.140625   3.148438   3.144531   0.000980\n",
      " 8   3.140625   3.144531   3.142578   0.000328\n",
      " 9   3.140625   3.142578   3.141602   0.000003\n",
      "10   3.140625   3.141602   3.141113  -0.000160\n",
      "11   3.141113   3.141602   3.141357  -0.000078\n",
      "12   3.141357   3.141602   3.141479  -0.000038\n",
      "13   3.141479   3.141602   3.141541  -0.000017\n",
      "14   3.141541   3.141602   3.141571  -0.000007\n",
      "15   3.141571   3.141602   3.141586  -0.000002\n",
      "The root is  3.1415939331054688\n"
     ]
    }
   ],
   "source": [
    "# import modules\n",
    "from math import tan\n",
    "\n",
    "# Defining the functions\n",
    "def f1(x):\n",
    "    return (1/3)*(tan(x))\n",
    "\n",
    "# Conditions\n",
    "a = 3.0 # initial guess\n",
    "b = 3.5 # initial guess\n",
    "tol = 1.0e-6 # tolerance\n",
    "maxiter = 20 # max iterations allowed\n",
    "\n",
    "# Checking if f(a) is close to the zero\n",
    "if abs(f1(a))<tol:\n",
    "    print(\"The root is \",a)\n",
    "\n",
    "# Checking if f(b) is close to zero\n",
    "elif abs(f1(b))<tol:\n",
    "    print(\"The root is \",b)\n",
    "\n",
    "# Checking if f(b)*f(a)>0     \n",
    "elif f1(a)*f1(b)>0.0:\n",
    "    print(\"Bad interval\")\n",
    "else:\n",
    "    count = 1\n",
    "    m = 0.5*(a+b)\n",
    "    while abs(f1(m))>tol and count<maxiter:\n",
    "        print(\"%2d %10.6f %10.6f %10.6f %10.6f\"%(count,a,b,m,f1(m)))\n",
    "        if f1(a)*f1(m)<0:\n",
    "            b = m\n",
    "        else:\n",
    "            a = m\n",
    "        count += 1\n",
    "        m = 0.5*(a+b)\n",
    "if count ==maxiter:\n",
    "    print(\"Did not converge\")\n",
    "else:\n",
    "    print(\"The root is \",m)"
   ]
  },
  {
   "cell_type": "markdown",
   "id": "40d8e767",
   "metadata": {},
   "source": [
    "## Secant Method"
   ]
  },
  {
   "cell_type": "code",
   "execution_count": 10,
   "id": "69633dff",
   "metadata": {},
   "outputs": [
    {
     "name": "stdout",
     "output_type": "stream",
     "text": [
      " 1   3.000000   3.500000   3.137824  -0.001256\n",
      " 2   3.500000   3.137824   3.141432  -0.000054\n",
      "The root is  3.1415926527944067\n"
     ]
    }
   ],
   "source": [
    "from math import tan, cos\n",
    "\n",
    "# Defining the functions\n",
    "def f1(x):\n",
    "    return (1/3)*(tan(x))\n",
    "\n",
    "# Conditions\n",
    "a = 3.0 # initial guess\n",
    "b = 3.5 # initial guess\n",
    "tol = 1.0e-8 # tolerance\n",
    "maxiter = 20 # max iterations allowed\n",
    "\n",
    "# Checking if f(a) is close to the zero\n",
    "if abs(f1(a))<tol:\n",
    "    print(\"The root is \",a)\n",
    "    \n",
    "# Checking if f(b) is close to zero    \n",
    "elif abs(f1(b))<tol:\n",
    "    print(\"The root is \",b)\n",
    "    \n",
    "# Checking if (f(b) -f(a)) is close to zero      \n",
    "elif abs(f1(b) - f1(a)) < tol:\n",
    "    print(\"Flat function. May not converge.\")\n",
    "else:\n",
    "    count = 1\n",
    "    c = b - f1(b)*(b - a)/(f1(b) - f1(a))\n",
    "    while abs(f1(c))>tol and count<maxiter:\n",
    "        print(\"%2d %10.6f %10.6f %10.6f %10.6f\"%(count,a,b,c,f1(c)))\n",
    "        a,b = b, c\n",
    "        if abs(f1(b) - f1(a)) < tol:\n",
    "            print(\"Flat function. May not converge.\")\n",
    "            break\n",
    "        count += 1\n",
    "        c = b - f1(b)*(b - a)/(f1(b) - f1(a))\n",
    "    if count==maxiter:\n",
    "        print(\"Did not converge\")\n",
    "    else:\n",
    "        print(\"The root is \",c)"
   ]
  },
  {
   "cell_type": "markdown",
   "id": "e4fb877f",
   "metadata": {},
   "source": [
    "## Newton Rapson Method"
   ]
  },
  {
   "cell_type": "code",
   "execution_count": 5,
   "id": "f315efa3",
   "metadata": {},
   "outputs": [
    {
     "name": "stdout",
     "output_type": "stream",
     "text": [
      " 1   3.000000   3.139708  -0.000628\n",
      "The root is  3.1415926491252555\n"
     ]
    }
   ],
   "source": [
    "from math import tan, cos\n",
    "\n",
    "# Defining the functions\n",
    "def f1(x):\n",
    "    return (1/3)*(tan(x))\n",
    "\n",
    "def df1(x):\n",
    "    return 1/(3*(cos(x)**2))\n",
    "\n",
    "# Conditions\n",
    "a = 3.0 # initial guess\n",
    "tol = 1.0e-8 # tolerance\n",
    "maxiter = 20 # max iterations allowed\n",
    "\n",
    "# Checking if the f(x) is close to the zero\n",
    "if abs(f1(a))<tol:\n",
    "    print(\"Root of the function:\",a)\n",
    "\n",
    "# Checking if f'(x) is close to zero\n",
    "elif abs(df1(a))<tol:\n",
    "    print(\"Flat function, May not converge\")\n",
    "\n",
    "# Newton Rapson Code\n",
    "else:\n",
    "    count = 1\n",
    "    a1 = a - f1(a)/df1(a)\n",
    "    while abs(f1(a1))>tol and count<maxiter:\n",
    "        print(\"%2d %10.6f %10.6f %10.6f\"%(count,a,a1,f1(a1)))\n",
    "        a = a1\n",
    "        if abs(df1(a)) < tol:\n",
    "            print(\"Flat function. May not converge.\")\n",
    "            break\n",
    "        count += 1\n",
    "        a1 = a - f1(a)/df1(a)\n",
    "    if count == maxiter:\n",
    "        print(\"Did not converge\")\n",
    "    else:\n",
    "        print(\"The root is \",a1)"
   ]
  },
  {
   "cell_type": "markdown",
   "id": "9cc90e79",
   "metadata": {},
   "source": [
    "# Question 2\n",
    "(3 points) Given a particle is moving in the potential V = −(x^4 +x^3 +x^2 + x + 1), find out the point\n",
    "of equilibrium for the particle. Use Newton-Raphson Method (numerically) to find out the root of\n",
    "the equation you find out. Use -0.5 as your initial guess."
   ]
  },
  {
   "cell_type": "code",
   "execution_count": 6,
   "id": "be523633",
   "metadata": {},
   "outputs": [
    {
     "name": "stdout",
     "output_type": "stream",
     "text": [
      " 1  -0.500000  -0.625000   0.054688\n",
      " 2  -0.625000  -0.606383   0.001534\n",
      " 3  -0.606383  -0.605830   0.000001\n",
      "The root is  -0.6058295861886113\n"
     ]
    }
   ],
   "source": [
    "# Defining the functions\n",
    "def f2(x):\n",
    "    return -(4*x**3 + 3*x**2 + 2*x + 1)\n",
    "\n",
    "def df2(x):\n",
    "    return -(12*x**2 + 6*x + 2)\n",
    "\n",
    "# Conditions\n",
    "a = -0.5 # initial guess\n",
    "tol = 1.0e-8 # tolerance\n",
    "maxiter = 20 # max iterations allowed\n",
    "\n",
    "# Checking if the f(x) is close to the zero\n",
    "if abs(f2(a))<tol:\n",
    "    print(\"Root of the function:\",a)\n",
    "\n",
    "# Checking if f'(x) is close to zero\n",
    "elif abs(df2(a))<tol:\n",
    "    print(\"Flat function, May not converge\")\n",
    "\n",
    "# Newton Rapson Code\n",
    "else:\n",
    "    count = 1\n",
    "    a1 = a - f2(a)/df2(a)\n",
    "    while abs(f2(a1))>tol and count<maxiter:\n",
    "        print(\"%2d %10.6f %10.6f %10.6f\"%(count,a,a1,f2(a1)))\n",
    "        a = a1\n",
    "        if abs(df2(a)) < tol:\n",
    "            print(\"Flat function. May not converge.\")\n",
    "            break\n",
    "        count += 1\n",
    "        a1 = a - f2(a)/df2(a)\n",
    "    if count == maxiter:\n",
    "        print(\"Did not converge\")\n",
    "    else:\n",
    "        print(\"The root is \",a1)"
   ]
  },
  {
   "cell_type": "markdown",
   "id": "da33d5b5",
   "metadata": {},
   "source": [
    "# Question 3\n",
    "(8 points) Consider a particle moving in an asymmetric one-dimensional double-well potential V (x) =\n",
    "x4 +2x3\u00013−x2eV with a total energy −0.125 eV. You need to find the turning points for the particle\n",
    "when it is in either potential well. Your result should be accurate (in terms of position, not the value\n",
    "of the energy) upto 5th decimal place. [Hint: plot and choose appropriate initial conditions.] Use\n",
    "the following methods.\n",
    "(a) (4 points) Bisection\n",
    "(b) (4 points) Secan"
   ]
  },
  {
   "cell_type": "code",
   "execution_count": 7,
   "id": "a0565567",
   "metadata": {},
   "outputs": [
    {
     "data": {
      "image/png": "[encoded data removed]",
      "text/plain": [
       "<Figure size 432x288 with 1 Axes>"
      ]
     },
     "metadata": {
      "needs_background": "light"
     },
     "output_type": "display_data"
    }
   ],
   "source": [
    "# Importing the modules\n",
    "import matplotlib.pyplot as plt\n",
    "import numpy as np\n",
    "\n",
    "# Defining the function\n",
    "def f3(x):\n",
    "    return x**4 + ((2*x)/3)**3 - x**2 + 0.125 #Shifting the function above by 0.125, the turning points are the roots\n",
    "\n",
    "# Plotting the function\n",
    "x = np.linspace(-1.5, 1, 400)  # Values of x\n",
    "y = f3(x)\n",
    "\n",
    "plt.plot(x, y)\n",
    "plt.xlabel(\"x\")\n",
    "plt.ylabel(\"f3(x)\")\n",
    "plt.title(\"Plot of f3(x)\")\n",
    "plt.grid(True)\n",
    "plt.show()"
   ]
  },
  {
   "cell_type": "markdown",
   "id": "16bf4d06",
   "metadata": {},
   "source": [
    "## Bisection Method"
   ]
  },
  {
   "cell_type": "code",
   "execution_count": 11,
   "id": "3fbb5a02",
   "metadata": {},
   "outputs": [
    {
     "name": "stdout",
     "output_type": "stream",
     "text": [
      "Root between -1.2 and -1 is -1.1073158264160157\n",
      "Root between -0.4 and -0.2 is -0.3574859619140626\n",
      "Root between 0.3 and 0.5 is 0.42433471679687496\n",
      "Root between 0.6 and 0.8 is 0.7441680908203125\n"
     ]
    }
   ],
   "source": [
    "def bisection_method(a,b,tol,maxiter):\n",
    "    if abs(f3(a))<tol:\n",
    "        print(\"The root is \",a)\n",
    "    elif abs(f3(b))<tol:\n",
    "        print(\"The root is \",b)\n",
    "    elif f3(a)*f3(b)>0.0:\n",
    "        print(\"Bad interval\")\n",
    "    else:\n",
    "        count = 1\n",
    "        m = 0.5*(a+b)\n",
    "        while abs(f3(m))>tol and count<maxiter:\n",
    "            if f3(a)*f3(m)<0:\n",
    "                b = m\n",
    "            else:\n",
    "                a = m\n",
    "            count += 1\n",
    "            m = 0.5*(a+b)\n",
    "    if count==maxiter:\n",
    "        return print(\"Did not converge\")\n",
    "    else:\n",
    "        return m\n",
    "\n",
    "print(\"Root between -1.2 and -1 is\",bisection_method(-1.2,-1,1.0e-6,20))\n",
    "print(\"Root between -0.4 and -0.2 is\",bisection_method(-0.4,-0.2,1.0e-6,20))\n",
    "print(\"Root between 0.3 and 0.5 is\",bisection_method(0.3,0.5,1.0e-6,20))\n",
    "print(\"Root between 0.6 and 0.8 is\",bisection_method(0.6,0.8,1.0e-6,20))"
   ]
  },
  {
   "cell_type": "markdown",
   "id": "4fb53445",
   "metadata": {},
   "source": [
    "## Secant Method"
   ]
  },
  {
   "cell_type": "code",
   "execution_count": 12,
   "id": "6191fa68",
   "metadata": {},
   "outputs": [
    {
     "name": "stdout",
     "output_type": "stream",
     "text": [
      "Root between -1.2 and -1 is -1.1073158389258813\n",
      "Root between -0.4 and -0.2 is -0.35748479757179424\n",
      "Root between 0.3 and 0.5 is 0.42433567261827354\n",
      "Root between 0.6 and 0.8 is 0.7441686911854567\n"
     ]
    }
   ],
   "source": [
    "def secant_method(a,b,tol,maxiter):\n",
    "    if abs(f3(a))<tol:\n",
    "        print(\"The root is \",a)\n",
    "    elif abs(f3(b))<tol:\n",
    "        print(\"The root is \",b)\n",
    "    elif abs(f3(b) - f3(a)) < tol:\n",
    "        print(\"Flat function. May not converge.\")\n",
    "    else:\n",
    "        count = 1\n",
    "        c = b - f3(b)*(b - a)/(f3(b) - f3(a))\n",
    "        while abs(f3(c))>tol and count<maxiter:\n",
    "            a,b = b, c\n",
    "            if abs(f3(b) - f3(a)) < tol:\n",
    "                print(\"Flat function. May not converge.\")\n",
    "                break\n",
    "            count += 1\n",
    "            c = b - f3(b)*(b - a)/(f3(b) - f3(a))\n",
    "        if count==maxiter:\n",
    "            return print(\"Did not converge\")\n",
    "        else:\n",
    "            return c\n",
    "\n",
    "print(\"Root between -1.2 and -1 is\",secant_method(-1.2,-1,1.0e-6,20))\n",
    "print(\"Root between -0.4 and -0.2 is\",secant_method(-0.4,-0.2,1.0e-6,20))\n",
    "print(\"Root between 0.3 and 0.5 is\",secant_method(0.3,0.5,1.0e-6,20))\n",
    "print(\"Root between 0.6 and 0.8 is\",secant_method(0.6,0.8,1.0e-6,20))"
   ]
  },
  {
   "cell_type": "code",
   "execution_count": null,
   "id": "52f2c929",
   "metadata": {},
   "outputs": [],
   "source": []
  }
 ],
 "metadata": {
  "kernelspec": {
   "display_name": "Python 3 (ipykernel)",
   "language": "python",
   "name": "python3"
  },
  "language_info": {
   "codemirror_mode": {
    "name": "ipython",
    "version": 3
   },
   "file_extension": ".py",
   "mimetype": "text/x-python",
   "name": "python",
   "nbconvert_exporter": "python",
   "pygments_lexer": "ipython3",
   "version": "3.10.12"
  }
 },
 "nbformat": 4,
 "nbformat_minor": 5
}
