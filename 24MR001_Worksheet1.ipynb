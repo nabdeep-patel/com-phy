{
 "cells": [
  {
   "cell_type": "markdown",
   "id": "aac6e01a",
   "metadata": {},
   "source": [
    "# Question 1\n",
    "(2 points) Write a function is prime that checks whether a given integer (n) is prime. For this, check whether any integer from 2 to sqrt{n} divides n. If it does, then the function should return false\n",
    "else it should return true."
   ]
  },
  {
   "cell_type": "code",
   "execution_count": 10,
   "id": "78950cd3",
   "metadata": {},
   "outputs": [
    {
     "name": "stdout",
     "output_type": "stream",
     "text": [
      "Enter a number: 21\n",
      "False\n"
     ]
    }
   ],
   "source": [
    "# Defining the function\n",
    "def is_prime(n):\n",
    "    if n <= 1: \n",
    "        return False\n",
    "    for i in range(2, int(n**0.5) + 1): # loop from 2 to sqrt(n)\n",
    "        if n % i == 0:\n",
    "            return False    \n",
    "    return True\n",
    "\n",
    "a = int(input(\"Enter an positive integer: \"))\n",
    "print(is_prime(a))"
   ]
  },
  {
   "cell_type": "markdown",
   "id": "81f6bc57",
   "metadata": {},
   "source": [
    "# Question 2\n",
    "(4 points) Write a function that generates all prime numbers between any two given integers."
   ]
  },
  {
   "cell_type": "code",
   "execution_count": 11,
   "id": "c20e920c",
   "metadata": {},
   "outputs": [
    {
     "name": "stdout",
     "output_type": "stream",
     "text": [
      "Enter start number(a): 1\n",
      "Enter end number(b): 20\n",
      "[2, 3, 5, 7, 11, 13, 17, 19]\n"
     ]
    }
   ],
   "source": [
    "# Function for checking whether prime or not\n",
    "def is_prime(n):\n",
    "    if n <= 1:\n",
    "        return False\n",
    "    for i in range(2, int(n**0.5) + 1):\n",
    "        if n % i == 0:\n",
    "            return False\n",
    "    return True\n",
    "\n",
    "\n",
    "def prime(a,b):\n",
    "    l = [] # Empty List\n",
    "    for i in range(a,b+1):\n",
    "        if is_prime(i):\n",
    "            l.append(i) # Prime Numbers added in list\n",
    "    return l\n",
    "\n",
    "a = int(input(\"Enter start number(a): \")) # Start number\n",
    "b = int(input(\"Enter end number(b): \")) # End number\n",
    "print(prime(a,b))"
   ]
  },
  {
   "cell_type": "markdown",
   "id": "13a3cabe",
   "metadata": {},
   "source": [
    "# Question 3\n",
    "(4 points) Write a function f(x, n) that evaluates the series upto nth term, for given x and n.\n"
   ]
  },
  {
   "cell_type": "code",
   "execution_count": 41,
   "id": "8a6b7780",
   "metadata": {},
   "outputs": [
    {
     "name": "stdout",
     "output_type": "stream",
     "text": [
      "Enter integer n (no of terms): 4\n",
      "Enter value of x (for exp(x)): 2\n",
      "6.333333333333333\n"
     ]
    }
   ],
   "source": [
    "# Function to find the factorial of a number\n",
    "def fact(c):\n",
    "    if c == 0:\n",
    "        c = 1\n",
    "    for i in range(1,c):\n",
    "        c = c*i\n",
    "    return c\n",
    "\n",
    "# Function to find exp(x)\n",
    "def f(x,n):\n",
    "    a = 1\n",
    "    for i in range(1,n): # Range from 1 to n-1 (1 is already added)\n",
    "        a = a + ((x**i)/fact(i))\n",
    "    return a\n",
    "    \n",
    "n = int(input(\"Enter integer n (no of terms): \"))\n",
    "x = int(input(\"Enter value of x (for exp(x)): \"))\n",
    "print(f(x,n))"
   ]
  },
  {
   "cell_type": "markdown",
   "id": "74d6c26d",
   "metadata": {},
   "source": [
    "# Question 4\n",
    "(4 points) Write a program that prints the calculated values of f(x,n) for x = 0.1, 0.2, . . . , 1.0 for\n",
    "n = 4, 8, 12, 16, 20. Your program should print a table where rows correspond to changing x and\n",
    "columns correspond to changing n. The table should be formatted to contain exactly 6 decimal\n",
    "places for each number."
   ]
  },
  {
   "cell_type": "code",
   "execution_count": 54,
   "id": "23c0e24a",
   "metadata": {
    "scrolled": true
   },
   "outputs": [
    {
     "name": "stdout",
     "output_type": "stream",
     "text": [
      "     n = 4           8           12           16           20\n",
      "x= 0.1 ['1.105167', '1.105171', '1.105171', '1.105171', '1.105171']\n",
      "x= 0.2 ['1.221333', '1.221403', '1.221403', '1.221403', '1.221403']\n",
      "x= 0.3 ['1.349500', '1.349859', '1.349859', '1.349859', '1.349859']\n",
      "x= 0.4 ['1.490667', '1.491825', '1.491825', '1.491825', '1.491825']\n",
      "x= 0.5 ['1.645833', '1.648721', '1.648721', '1.648721', '1.648721']\n",
      "x= 0.6 ['1.816000', '1.822118', '1.822119', '1.822119', '1.822119']\n",
      "x= 0.7 ['2.002167', '2.013751', '2.013753', '2.013753', '2.013753']\n",
      "x= 0.8 ['2.205333', '2.225536', '2.225541', '2.225541', '2.225541']\n",
      "x= 0.9 ['2.426500', '2.459591', '2.459603', '2.459603', '2.459603']\n",
      "x= 1.0 ['2.666667', '2.718254', '2.718282', '2.718282', '2.718282']\n"
     ]
    }
   ],
   "source": [
    "#Function to find the factorial of a number\n",
    "def fact(c):\n",
    "    if c == 0:\n",
    "        c = 1\n",
    "    for i in range(1,c):\n",
    "        c = c*i\n",
    "    return c\n",
    "\n",
    "# Function to find exp(x)\n",
    "def f(x,n):\n",
    "    a = 1\n",
    "    for i in range(1,n): # Range from 1 to n-1 (1 is already added)\n",
    "        a = a + ((x**i)/fact(i))\n",
    "    return a\n",
    "\n",
    "# Function for better formatting and round off to 6 decimal places\n",
    "def format(x,n):\n",
    "    list = []\n",
    "    for n in range(4,21,4):\n",
    "        list.append(f'{f(x,n):.6f}')\n",
    "    return list\n",
    "\n",
    "i=0.1\n",
    "print(\"     n = 4           8           12           16           20\")\n",
    "while i<1.0:\n",
    "    print(\"x=\", f'{i:.1f}',\"\",end=\"\")\n",
    "   \n",
    "    print(format(i,n))\n",
    "    i=i+0.1"
   ]
  },
  {
   "cell_type": "markdown",
   "id": "879dfc46",
   "metadata": {},
   "source": [
    "# Question 5\n",
    "(6 points) Write a function that uses the continued fraction\n",
    "12\n",
    "4\n",
    "=1+\n",
    "π\n",
    "32\n",
    "2+\n",
    "52\n",
    "2+\n",
    "2+\n",
    "72\n",
    "2 + ...\n",
    "to evaluate π upto n terms. Also write a function that uses Leibniz formula\n",
    "π\n",
    "1 1 1 1\n",
    "= 1 − + − + − ...\n",
    "4\n",
    "3 5 7 9\n",
    "to evaluate π upto n terms.\n",
    "Write a program that prints the output of both the functions for n = 1, 2, . . . , 10 (as a formatted\n",
    "table with 8 decimal places for each number). Compare their convergence by plotting them in the\n",
    "same plot versus n."
   ]
  },
  {
   "cell_type": "code",
   "execution_count": 44,
   "id": "fc417a57",
   "metadata": {},
   "outputs": [
    {
     "name": "stdout",
     "output_type": "stream",
     "text": [
      "n    Pi (Continued Fraction)  Pi (Leibniz)        \n",
      "1    2.66666667               4.00000000          \n",
      "2    3.20000000               2.66666667          \n",
      "3    2.89361702               3.46666667          \n",
      "4    3.08661417               2.89523810          \n",
      "5    2.95187166               3.33968254          \n",
      "6    3.05035971               2.97604618          \n",
      "7    2.97479695               3.28373848          \n",
      "8    3.03436542               3.01707182          \n",
      "9    2.98606542               3.25236593          \n",
      "10   3.02593493               3.04183962          \n"
     ]
    },
    {
     "data": {
      "image/png": "[encoded data removed]",
      "text/plain": [
       "<Figure size 432x288 with 1 Axes>"
      ]
     },
     "metadata": {
      "needs_background": "light"
     },
     "output_type": "display_data"
    }
   ],
   "source": [
    "import matplotlib.pyplot as plt\n",
    "\n",
    "# Function to calculate pi using the continued fraction\n",
    "def fourbypi(n):\n",
    "    result = 0\n",
    "    for k in range(n, 0, -1):\n",
    "        result = k ** 2 / (2 + result)\n",
    "    return 4 / (1 + result)\n",
    "\n",
    "# Function to calculate pi using the Leibniz formula\n",
    "def pi_leibniz(n):\n",
    "    pi_approx = 0\n",
    "    for k in range(n):\n",
    "        pi_approx += (-1)**k / (2 * k + 1)\n",
    "    return 4 * pi_approx\n",
    "\n",
    "# Main script\n",
    "n_values = range(1, 11)\n",
    "pi_cf_values = [fourbypi(n) for n in n_values]\n",
    "pi_leibniz_values = [pi_leibniz(n) for n in n_values]\n",
    "\n",
    "# Print results in a formatted table\n",
    "print(f\"{'n':<5}{'Pi (Continued Fraction)':<25}{'Pi (Leibniz)':<20}\")\n",
    "for n, cf, leibniz in zip(n_values, pi_cf_values, pi_leibniz_values):\n",
    "    print(f\"{n:<5}{cf:<25.8f}{leibniz:<20.8f}\")\n",
    "\n",
    "# Plotting\n",
    "plt.plot(n_values, pi_cf_values, label=\"Continued Fraction\", marker='o')\n",
    "plt.plot(n_values, pi_leibniz_values, label=\"Leibniz Formula\", marker='s')\n",
    "plt.xlabel(\"Number of Terms (n)\")\n",
    "plt.ylabel(\"Approximated π\")\n",
    "plt.title(\"Convergence of π Approximation\")\n",
    "plt.legend()\n",
    "plt.grid()\n",
    "plt.show()\n"
   ]
  },
  {
   "cell_type": "code",
   "execution_count": null,
   "id": "8f19d411",
   "metadata": {},
   "outputs": [],
   "source": []
  }
 ],
 "metadata": {
  "kernelspec": {
   "display_name": "Python 3 (ipykernel)",
   "language": "python",
   "name": "python3"
  },
  "language_info": {
   "codemirror_mode": {
    "name": "ipython",
    "version": 3
   },
   "file_extension": ".py",
   "mimetype": "text/x-python",
   "name": "python",
   "nbconvert_exporter": "python",
   "pygments_lexer": "ipython3",
   "version": "3.10.12"
  }
 },
 "nbformat": 4,
 "nbformat_minor": 5
}
